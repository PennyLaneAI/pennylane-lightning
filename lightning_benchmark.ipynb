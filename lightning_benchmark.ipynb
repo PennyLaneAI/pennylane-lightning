{
 "cells": [
  {
   "cell_type": "code",
   "execution_count": 1,
   "id": "thrown-argentina",
   "metadata": {},
   "outputs": [],
   "source": [
    "# Requires pip install py-cpuinfo\n",
    "\n",
    "import matplotlib.pyplot as plt\n",
    "import numpy as np\n",
    "\n",
    "import pennylane as qml\n",
    "import pennylane_lightning\n",
    "import pennylane_lightning.lightning_benchmark as bench"
   ]
  },
  {
   "cell_type": "markdown",
   "id": "technological-drink",
   "metadata": {},
   "source": [
    "## Processor info"
   ]
  },
  {
   "cell_type": "code",
   "execution_count": 2,
   "id": "micro-lyric",
   "metadata": {},
   "outputs": [
    {
     "name": "stdout",
     "output_type": "stream",
     "text": [
      "python_version: 3.9.0.final.0 (64 bit)\n",
      "cpuinfo_version: [7, 0, 0]\n",
      "cpuinfo_version_string: 7.0.0\n",
      "arch: X86_64\n",
      "bits: 64\n",
      "count: 8\n",
      "arch_string_raw: AMD64\n",
      "vendor_id_raw: GenuineIntel\n",
      "brand_raw: Intel(R) Core(TM) i7-4770K CPU @ 3.50GHz\n",
      "hz_advertised_friendly: 3.5000 GHz\n",
      "hz_actual_friendly: 3.5010 GHz\n",
      "hz_advertised: [3500000000, 0]\n",
      "hz_actual: [3501000000, 0]\n",
      "l2_cache_size: 1048576\n",
      "stepping: 3\n",
      "model: 60\n",
      "family: 6\n",
      "l3_cache_size: 8388608\n",
      "flags: ['3dnow', 'abm', 'acpi', 'aes', 'apic', 'avx', 'avx2', 'bmi1', 'bmi2', 'clflush', 'cmov', 'cx16', 'cx8', 'de', 'ds_cpl', 'dtes64', 'dts', 'erms', 'est', 'f16c', 'fma', 'fpu', 'fxsr', 'ht', 'ia64', 'invpcid', 'lahf_lm', 'mca', 'mce', 'mmx', 'monitor', 'movbe', 'msr', 'mtrr', 'osxsave', 'pae', 'pat', 'pbe', 'pcid', 'pclmulqdq', 'pdcm', 'pge', 'pni', 'popcnt', 'pse', 'pse36', 'rdrnd', 'sep', 'serial', 'smep', 'ss', 'sse', 'sse2', 'sse4_1', 'sse4_2', 'ssse3', 'tm', 'tm2', 'tsc', 'tscdeadline', 'vme', 'vmx', 'xsave', 'xtpr']\n",
      "l2_cache_line_size: 256\n",
      "l2_cache_associativity: 6\n"
     ]
    }
   ],
   "source": [
    "from cpuinfo import get_cpu_info\n",
    "for key, value in get_cpu_info().items():\n",
    "    print(\"{0}: {1}\".format(key, value))"
   ]
  },
  {
   "cell_type": "markdown",
   "id": "coated-luxury",
   "metadata": {},
   "source": [
    "## Initialisation code"
   ]
  },
  {
   "cell_type": "code",
   "execution_count": 3,
   "id": "favorite-method",
   "metadata": {},
   "outputs": [],
   "source": [
    "def benchmarkAndPlot(numRepetitions, nValues, colour, plotLabel, methodForN):\n",
    "    timingResults = np.empty([len(nValues), 3])\n",
    "    idx = 0\n",
    "    for n in nValues:\n",
    "        timingResult = [n, *bench.benchmarkMethod(numRepetitions, lambda: methodForN(n))]\n",
    "        print(f\"n={n:2} took an average of {timingResult[1]} sec (std dev: {timingResult[2]} sec)\")\n",
    "        timingResults[idx] = timingResult\n",
    "        idx += 1\n",
    "    plt.errorbar(timingResults[:,0], timingResults[:,1], yerr=timingResults[:,2], ls = \"None\", color=colour)\n",
    "    plt.scatter(timingResults[:,0], timingResults[:,1], s = 20, color=colour, label=plotLabel)\n",
    "    \n",
    "def benchmarkCompare(title, numRepetitions, nValues, operationsForN):\n",
    "    plt.subplot()\n",
    "    plt.title(title)\n",
    "    plt.yscale('log')\n",
    "    plt.xlabel('Number of qubits')\n",
    "    plt.ylabel('Runtime (seconds)')\n",
    "    plt.grid(True)\n",
    "    \n",
    "    print(\"Running with old backend:\")\n",
    "    benchmarkAndPlot(numRepetitions, nValues, 'b', 'Old', lambda n: bench.benchmarkApply(n, operationsForN(n)))\n",
    "    print(\"Running with new backend:\")\n",
    "    benchmarkAndPlot(numRepetitions, nValues, 'r', 'New', lambda n: bench.benchmarkApplyNew(n, operationsForN(n)))\n",
    "    plt.legend(loc=\"upper left\")\n",
    "    plt.show()"
   ]
  },
  {
   "cell_type": "markdown",
   "id": "ahead-significance",
   "metadata": {},
   "source": [
    "## Comparisons"
   ]
  },
  {
   "cell_type": "code",
   "execution_count": 4,
   "id": "resident-repair",
   "metadata": {
    "scrolled": false
   },
   "outputs": [
    {
     "name": "stdout",
     "output_type": "stream",
     "text": [
      "Running with old backend:\n",
      "n=10 took an average of 0.00039985179901123045 sec (std dev: 0.0005162064818993355 sec)\n",
      "n=11 took an average of 0.0008969783782958984 sec (std dev: 0.0003152393297288236 sec)\n",
      "n=12 took an average of 0.0016013622283935548 sec (std dev: 0.0005148734849031851 sec)\n",
      "n=13 took an average of 0.002799367904663086 sec (std dev: 0.00042399330308265923 sec)\n",
      "n=14 took an average of 0.005999183654785157 sec (std dev: 0.0006623620396257136 sec)\n",
      "n=15 took an average of 0.013145518302917481 sec (std dev: 0.0007432160861058601 sec)\n",
      "n=16 took an average of 0.02920055389404297 sec (std dev: 0.005265665567232792 sec)\n",
      "n=17 took an average of 0.06129906177520752 sec (std dev: 0.0034996106870989613 sec)\n",
      "n=18 took an average of 0.12829575538635254 sec (std dev: 0.006236971477736959 sec)\n",
      "n=19 took an average of 0.27519228458404543 sec (std dev: 0.007114234561363958 sec)\n",
      "n=20 took an average of 0.5821371078491211 sec (std dev: 0.01510324806134441 sec)\n",
      "Running with new backend:\n",
      "n=10 took an average of 0.0002985954284667969 sec (std dev: 0.0004808015034304681 sec)\n",
      "n=11 took an average of 0.00029888153076171873 sec (std dev: 0.000481251984472027 sec)\n",
      "n=12 took an average of 0.0005002498626708984 sec (std dev: 0.0005273330541116729 sec)\n",
      "n=13 took an average of 0.0004995107650756836 sec (std dev: 0.0005265630291106574 sec)\n",
      "n=14 took an average of 0.0007980823516845703 sec (std dev: 0.00042066134300115164 sec)\n",
      "n=15 took an average of 0.0009000778198242187 sec (std dev: 0.0007379047003149202 sec)\n",
      "n=16 took an average of 0.001798701286315918 sec (std dev: 0.000632594129371727 sec)\n",
      "n=17 took an average of 0.003098583221435547 sec (std dev: 0.0008778994632552386 sec)\n",
      "n=18 took an average of 0.006200933456420898 sec (std dev: 0.0012288476543834408 sec)\n",
      "n=19 took an average of 0.012999701499938964 sec (std dev: 0.0029429468087787724 sec)\n",
      "n=20 took an average of 0.024596762657165528 sec (std dev: 0.003240389650410357 sec)\n"
     ]
    },
    {
     "data": {
      "image/png": "[encoded data removed]",
      "text/plain": [
       "<Figure size 432x288 with 1 Axes>"
      ]
     },
     "metadata": {
      "needs_background": "light"
     },
     "output_type": "display_data"
    }
   ],
   "source": [
    "benchmarkCompare(\"Hadamard at n-1\", 10, list(range(10,21)), lambda n: [qml.Hadamard(wires=(n-1))])"
   ]
  },
  {
   "cell_type": "code",
   "execution_count": 5,
   "id": "specific-switch",
   "metadata": {},
   "outputs": [
    {
     "name": "stdout",
     "output_type": "stream",
     "text": [
      "Running with old backend:\n",
      "n=10 took an average of 0.00040056705474853513 sec (std dev: 0.0005171318760342542 sec)\n",
      "n=11 took an average of 0.0007977008819580079 sec (std dev: 0.000420456927697162 sec)\n",
      "n=12 took an average of 0.0014971256256103515 sec (std dev: 0.0005255731493787098 sec)\n",
      "n=13 took an average of 0.003098464012145996 sec (std dev: 0.00031761877863812005 sec)\n",
      "n=14 took an average of 0.006099152565002442 sec (std dev: 0.0005668104646766745 sec)\n",
      "n=15 took an average of 0.012996149063110352 sec (std dev: 0.0006676415547231663 sec)\n",
      "n=16 took an average of 0.029199504852294923 sec (std dev: 0.0017529596323175285 sec)\n",
      "n=17 took an average of 0.05899534225463867 sec (std dev: 0.0026679203822505856 sec)\n",
      "n=18 took an average of 0.13122453689575195 sec (std dev: 0.008542911924467529 sec)\n",
      "n=19 took an average of 0.2784926176071167 sec (std dev: 0.005485490092164815 sec)\n",
      "n=20 took an average of 0.6029375314712524 sec (std dev: 0.024008973364595003 sec)\n",
      "Running with new backend:\n",
      "n=10 took an average of 0.00040075778961181643 sec (std dev: 0.0005173789550392614 sec)\n",
      "n=11 took an average of 0.0002990245819091797 sec (std dev: 0.00048148341723841255 sec)\n",
      "n=12 took an average of 0.00040030479431152344 sec (std dev: 0.0005168097518616734 sec)\n",
      "n=13 took an average of 0.0006988525390625 sec (std dev: 0.0004823040800878117 sec)\n",
      "n=14 took an average of 0.00040004253387451174 sec (std dev: 0.0005164527439940671 sec)\n",
      "n=15 took an average of 0.0009965896606445312 sec (std dev: 5.168791625184727e-06 sec)\n",
      "n=16 took an average of 0.0017998933792114258 sec (std dev: 0.00042174489353259367 sec)\n",
      "n=17 took an average of 0.0033983945846557616 sec (std dev: 0.0006979360514536127 sec)\n",
      "n=18 took an average of 0.006597089767456055 sec (std dev: 0.001775840210528492 sec)\n",
      "n=19 took an average of 0.011401009559631348 sec (std dev: 0.0006982952094258571 sec)\n",
      "n=20 took an average of 0.022799468040466307 sec (std dev: 0.0014769762426474502 sec)\n"
     ]
    },
    {
     "data": {
      "image/png": "[encoded data removed]",
      "text/plain": [
       "<Figure size 432x288 with 1 Axes>"
      ]
     },
     "metadata": {
      "needs_background": "light"
     },
     "output_type": "display_data"
    }
   ],
   "source": [
    "benchmarkCompare(\"Hadamard at 0\", 10, list(range(10,21)), lambda n: [qml.Hadamard(wires=(0))])"
   ]
  },
  {
   "cell_type": "code",
   "execution_count": 6,
   "id": "patent-convert",
   "metadata": {},
   "outputs": [
    {
     "name": "stdout",
     "output_type": "stream",
     "text": [
      "Running with old backend:\n",
      "n=10 took an average of 0.0003976106643676758 sec (std dev: 0.000513330845979032 sec)\n",
      "n=11 took an average of 0.0007998466491699219 sec (std dev: 0.0004216017574737235 sec)\n",
      "n=12 took an average of 0.0016967296600341798 sec (std dev: 0.00048460339724868827 sec)\n",
      "n=13 took an average of 0.0033998966217041017 sec (std dev: 0.0005193051815450249 sec)\n",
      "n=14 took an average of 0.005602359771728516 sec (std dev: 0.0007033538276988751 sec)\n",
      "n=15 took an average of 0.013700532913208007 sec (std dev: 0.0010583363803630015 sec)\n",
      "n=16 took an average of 0.030200266838073732 sec (std dev: 0.001316543831523577 sec)\n",
      "n=17 took an average of 0.06789846420288086 sec (std dev: 0.003381681096401736 sec)\n",
      "n=18 took an average of 0.14289479255676268 sec (std dev: 0.006905108453799577 sec)\n",
      "n=19 took an average of 0.2936877250671387 sec (std dev: 0.006455953442562644 sec)\n",
      "n=20 took an average of 0.6086820602416992 sec (std dev: 0.01271580197888051 sec)\n",
      "Running with new backend:\n",
      "n=10 took an average of 0.00020041465759277344 sec (std dev: 0.0004225124071491866 sec)\n",
      "n=11 took an average of 0.0003983259201049805 sec (std dev: 0.000514283336866798 sec)\n",
      "n=12 took an average of 0.0005992412567138672 sec (std dev: 0.0005157571992798073 sec)\n",
      "n=13 took an average of 0.0005977392196655273 sec (std dev: 0.0005144676840276629 sec)\n",
      "n=14 took an average of 0.0006971359252929688 sec (std dev: 0.0004811570599522002 sec)\n",
      "n=15 took an average of 0.0009994745254516602 sec (std dev: 0.00047218798688191765 sec)\n",
      "n=16 took an average of 0.0018994808197021484 sec (std dev: 0.0005659814917078239 sec)\n",
      "n=17 took an average of 0.0034969568252563475 sec (std dev: 0.0007012151402308746 sec)\n",
      "n=18 took an average of 0.006701421737670898 sec (std dev: 0.0013383385630171187 sec)\n",
      "n=19 took an average of 0.01409909725189209 sec (std dev: 0.0028831788493639504 sec)\n",
      "n=20 took an average of 0.028097009658813475 sec (std dev: 0.004067521774778753 sec)\n"
     ]
    },
    {
     "data": {
      "image/png": "[encoded data removed]",
      "text/plain": [
       "<Figure size 432x288 with 1 Axes>"
      ]
     },
     "metadata": {
      "needs_background": "light"
     },
     "output_type": "display_data"
    }
   ],
   "source": [
    "benchmarkCompare(\"CNOT at [n-2, n-1]\", 10, list(range(10,21)), lambda n: [qml.CNOT(wires=(n-2, n-1))])"
   ]
  },
  {
   "cell_type": "code",
   "execution_count": 7,
   "id": "attractive-collaboration",
   "metadata": {},
   "outputs": [
    {
     "name": "stdout",
     "output_type": "stream",
     "text": [
      "Running with old backend:\n",
      "n=10 took an average of 0.0004998207092285156 sec (std dev: 0.000526857352362508 sec)\n",
      "n=11 took an average of 0.0008984804153442383 sec (std dev: 0.0003158036106504085 sec)\n",
      "n=12 took an average of 0.0014996528625488281 sec (std dev: 0.0005221197893919869 sec)\n",
      "n=13 took an average of 0.0026993751525878906 sec (std dev: 0.00048011086487951903 sec)\n",
      "n=14 took an average of 0.005796909332275391 sec (std dev: 0.00041948785212514276 sec)\n",
      "n=15 took an average of 0.013196253776550293 sec (std dev: 0.0006270396588559307 sec)\n",
      "n=16 took an average of 0.029094791412353514 sec (std dev: 0.0019719941258335115 sec)\n",
      "n=17 took an average of 0.062000393867492676 sec (std dev: 0.0027083582669710344 sec)\n",
      "n=18 took an average of 0.13059635162353517 sec (std dev: 0.004137456765160311 sec)\n",
      "n=19 took an average of 0.2751962184906006 sec (std dev: 0.009358921601928059 sec)\n",
      "n=20 took an average of 0.5742841720581054 sec (std dev: 0.010937156521778714 sec)\n",
      "Running with new backend:\n",
      "n=10 took an average of 0.00019891262054443358 sec (std dev: 0.00041935035125698316 sec)\n",
      "n=11 took an average of 0.00020003318786621094 sec (std dev: 0.0004217069875210556 sec)\n",
      "n=12 took an average of 0.0 sec (std dev: 0.0 sec)\n",
      "n=13 took an average of 9.968280792236329e-05 sec (std dev: 0.00031522471659574494 sec)\n",
      "n=14 took an average of 0.0002998828887939453 sec (std dev: 0.00048285738126463515 sec)\n",
      "n=15 took an average of 0.0010056495666503906 sec (std dev: 1.5613535015739347e-05 sec)\n",
      "n=16 took an average of 0.0024011611938476564 sec (std dev: 0.000844023080749532 sec)\n",
      "n=17 took an average of 0.003400850296020508 sec (std dev: 0.0005164441019776096 sec)\n",
      "n=18 took an average of 0.006601190567016602 sec (std dev: 0.0009659203569419522 sec)\n",
      "n=19 took an average of 0.012701654434204101 sec (std dev: 0.0009481639892672348 sec)\n",
      "n=20 took an average of 0.027499794960021973 sec (std dev: 0.005213825005146015 sec)\n"
     ]
    },
    {
     "data": {
      "image/png": "[encoded data removed]",
      "text/plain": [
       "<Figure size 432x288 with 1 Axes>"
      ]
     },
     "metadata": {
      "needs_background": "light"
     },
     "output_type": "display_data"
    }
   ],
   "source": [
    "benchmarkCompare(\"CNOT at [0, 1]\", 10, list(range(10,21)), lambda n: [qml.CNOT(wires=(0, 1))])"
   ]
  },
  {
   "cell_type": "code",
   "execution_count": null,
   "id": "leading-sport",
   "metadata": {},
   "outputs": [],
   "source": []
  }
 ],
 "metadata": {
  "kernelspec": {
   "display_name": "Python 3",
   "language": "python",
   "name": "python3"
  },
  "language_info": {
   "codemirror_mode": {
    "name": "ipython",
    "version": 3
   },
   "file_extension": ".py",
   "mimetype": "text/x-python",
   "name": "python",
   "nbconvert_exporter": "python",
   "pygments_lexer": "ipython3",
   "version": "3.9.0"
  }
 },
 "nbformat": 4,
 "nbformat_minor": 5
}
